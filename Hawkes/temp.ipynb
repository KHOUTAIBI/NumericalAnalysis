{
 "cells": [
  {
   "cell_type": "code",
   "execution_count": null,
   "id": "1d7edad2",
   "metadata": {},
   "outputs": [],
   "source": [
    "import numpy as np\n",
    "import pandas as pd"
   ]
  },
  {
   "cell_type": "code",
   "execution_count": null,
   "id": "cc315709",
   "metadata": {},
   "outputs": [],
   "source": [
    "def f(x):\n",
    "    \n",
    "    df = pd.read_csv(\"info.csv\")\n",
    "    df.drop(['id'])\n",
    "    L = []\n",
    "    for feature in df:\n",
    "        result = feature[0] + feature[1] * 365 * 8 + feature[2] * 10e-3 * 8 + feature[3] * (24 - 8)  \n",
    "        L.append(result)\n",
    "\n",
    "    return L"
   ]
  },
  {
   "cell_type": "code",
   "execution_count": null,
   "id": "95900e19",
   "metadata": {},
   "outputs": [
    {
     "name": "stdout",
     "output_type": "stream",
     "text": [
      "3.228970423722548\n"
     ]
    }
   ],
   "source": [
    "import numpy as np\n",
    "\n",
    "def f(a, n):\n",
    "\n",
    "    A = np.eye(n)\n",
    "    \n",
    "    for i in range(n - 1):\n",
    "        A[i, i+1] = -1\n",
    "    \n",
    "    for i in range(n - 1):\n",
    "        A[i + 1, i] = a[i]\n",
    "    \n",
    "    return np.linalg.det(A)\n",
    "\n",
    "n = 300\n",
    "a = np.arange(1, n)\n",
    "\n",
    "a = 1/(a**2)\n",
    "\n",
    "print(f(a, n))"
   ]
  }
 ],
 "metadata": {
  "kernelspec": {
   "display_name": "Python 3",
   "language": "python",
   "name": "python3"
  },
  "language_info": {
   "codemirror_mode": {
    "name": "ipython",
    "version": 3
   },
   "file_extension": ".py",
   "mimetype": "text/x-python",
   "name": "python",
   "nbconvert_exporter": "python",
   "pygments_lexer": "ipython3",
   "version": "3.11.2"
  }
 },
 "nbformat": 4,
 "nbformat_minor": 5
}
