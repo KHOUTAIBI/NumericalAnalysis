{
 "cells": [
  {
   "cell_type": "code",
   "execution_count": 1,
   "id": "c9b7953e",
   "metadata": {},
   "outputs": [],
   "source": [
    "import pandas as pd\n",
    "import numpy as np\n",
    "import scipy as sp\n",
    "import matplotlib.pyplot as plt\n",
    "from datetime import datetime"
   ]
  },
  {
   "cell_type": "code",
   "execution_count": 2,
   "id": "067fb2db",
   "metadata": {},
   "outputs": [
    {
     "data": {
      "text/html": [
       "<div>\n",
       "<style scoped>\n",
       "    .dataframe tbody tr th:only-of-type {\n",
       "        vertical-align: middle;\n",
       "    }\n",
       "\n",
       "    .dataframe tbody tr th {\n",
       "        vertical-align: top;\n",
       "    }\n",
       "\n",
       "    .dataframe thead th {\n",
       "        text-align: right;\n",
       "    }\n",
       "</style>\n",
       "<table border=\"1\" class=\"dataframe\">\n",
       "  <thead>\n",
       "    <tr style=\"text-align: right;\">\n",
       "      <th></th>\n",
       "      <th>Date Made Public</th>\n",
       "      <th>Company</th>\n",
       "      <th>City</th>\n",
       "      <th>State</th>\n",
       "      <th>Type of breach</th>\n",
       "      <th>Type of organization</th>\n",
       "      <th>Total Records</th>\n",
       "      <th>Description of incident</th>\n",
       "      <th>Information Source</th>\n",
       "      <th>Source URL</th>\n",
       "      <th>Year of Breach</th>\n",
       "      <th>Latitude</th>\n",
       "      <th>Longitude</th>\n",
       "      <th>Unnamed: 13</th>\n",
       "      <th>Unnamed: 14</th>\n",
       "      <th>Unnamed: 15</th>\n",
       "    </tr>\n",
       "  </thead>\n",
       "  <tbody>\n",
       "    <tr>\n",
       "      <th>0</th>\n",
       "      <td>3/3/2006</td>\n",
       "      <td>PayDay OK LLC</td>\n",
       "      <td>NaN</td>\n",
       "      <td>New Jersey</td>\n",
       "      <td>HACK</td>\n",
       "      <td>BSF</td>\n",
       "      <td>88</td>\n",
       "      <td>The company's website was breached sometime ar...</td>\n",
       "      <td>California Attorney General</td>\n",
       "      <td>https://oag.ca.gov/</td>\n",
       "      <td>2006</td>\n",
       "      <td>40.058324</td>\n",
       "      <td>-74.405661</td>\n",
       "      <td>NaN</td>\n",
       "      <td>NaN</td>\n",
       "      <td>NaN</td>\n",
       "    </tr>\n",
       "    <tr>\n",
       "      <th>1</th>\n",
       "      <td>1/4/2012</td>\n",
       "      <td>SF Fire Credit Union, Pacifica-Coastside Credi...</td>\n",
       "      <td>San Francisco</td>\n",
       "      <td>California</td>\n",
       "      <td>PORT</td>\n",
       "      <td>BSF</td>\n",
       "      <td>0</td>\n",
       "      <td>The December 29, 2011 theft of a laptop from a...</td>\n",
       "      <td>California Attorney General</td>\n",
       "      <td>NaN</td>\n",
       "      <td>2012</td>\n",
       "      <td>37.774930</td>\n",
       "      <td>-122.419416</td>\n",
       "      <td>NaN</td>\n",
       "      <td>NaN</td>\n",
       "      <td>NaN</td>\n",
       "    </tr>\n",
       "    <tr>\n",
       "      <th>2</th>\n",
       "      <td>2/18/2012</td>\n",
       "      <td>BDO USA, Rubio's Restaurants, Inc.</td>\n",
       "      <td>San Diego</td>\n",
       "      <td>California</td>\n",
       "      <td>PORT</td>\n",
       "      <td>BSR</td>\n",
       "      <td>0</td>\n",
       "      <td>BDO was contracted by Rubio's to perform finan...</td>\n",
       "      <td>California Attorney General</td>\n",
       "      <td>NaN</td>\n",
       "      <td>2012</td>\n",
       "      <td>32.715329</td>\n",
       "      <td>-117.157255</td>\n",
       "      <td>NaN</td>\n",
       "      <td>NaN</td>\n",
       "      <td>NaN</td>\n",
       "    </tr>\n",
       "    <tr>\n",
       "      <th>3</th>\n",
       "      <td>2/22/2012</td>\n",
       "      <td>DHI Mortgage Company, Ltd.</td>\n",
       "      <td>Austin</td>\n",
       "      <td>Texas</td>\n",
       "      <td>HACK</td>\n",
       "      <td>BSF</td>\n",
       "      <td>0</td>\n",
       "      <td>On February 10, 2012, DHI Mortgage became awar...</td>\n",
       "      <td>California Attorney General</td>\n",
       "      <td>NaN</td>\n",
       "      <td>2012</td>\n",
       "      <td>30.267153</td>\n",
       "      <td>-97.743061</td>\n",
       "      <td>NaN</td>\n",
       "      <td>NaN</td>\n",
       "      <td>NaN</td>\n",
       "    </tr>\n",
       "    <tr>\n",
       "      <th>4</th>\n",
       "      <td>3/12/2012</td>\n",
       "      <td>Impairment Resources, LLC</td>\n",
       "      <td>San Diego</td>\n",
       "      <td>California</td>\n",
       "      <td>PORT</td>\n",
       "      <td>MED</td>\n",
       "      <td>14,000</td>\n",
       "      <td>An office burglary on New Year's Eve 2011 resu...</td>\n",
       "      <td>California Attorney General</td>\n",
       "      <td>NaN</td>\n",
       "      <td>2012</td>\n",
       "      <td>32.715329</td>\n",
       "      <td>-117.157255</td>\n",
       "      <td>NaN</td>\n",
       "      <td>NaN</td>\n",
       "      <td>NaN</td>\n",
       "    </tr>\n",
       "    <tr>\n",
       "      <th>5</th>\n",
       "      <td>3/14/2012</td>\n",
       "      <td>RJL Insurance Services, LLC, RJL Wealth Manage...</td>\n",
       "      <td>San Diego</td>\n",
       "      <td>California</td>\n",
       "      <td>DISC</td>\n",
       "      <td>BSF</td>\n",
       "      <td>0</td>\n",
       "      <td>RJL Insurance Services became aware of a vulne...</td>\n",
       "      <td>California Attorney General</td>\n",
       "      <td>NaN</td>\n",
       "      <td>2012</td>\n",
       "      <td>32.715329</td>\n",
       "      <td>-117.157255</td>\n",
       "      <td>NaN</td>\n",
       "      <td>NaN</td>\n",
       "      <td>NaN</td>\n",
       "    </tr>\n",
       "    <tr>\n",
       "      <th>6</th>\n",
       "      <td>3/19/2012</td>\n",
       "      <td>Kaiser Foundation Health Plan</td>\n",
       "      <td>Oakland</td>\n",
       "      <td>California</td>\n",
       "      <td>DISC</td>\n",
       "      <td>MED</td>\n",
       "      <td>30,000</td>\n",
       "      <td>Someone purchased a hard drive in September of...</td>\n",
       "      <td>California Attorney General</td>\n",
       "      <td>NaN</td>\n",
       "      <td>2012</td>\n",
       "      <td>37.804364</td>\n",
       "      <td>-122.271114</td>\n",
       "      <td>NaN</td>\n",
       "      <td>NaN</td>\n",
       "      <td>NaN</td>\n",
       "    </tr>\n",
       "    <tr>\n",
       "      <th>7</th>\n",
       "      <td>3/19/2012</td>\n",
       "      <td>IndyMac Bank, IndyMac Resources, Inc.</td>\n",
       "      <td>Dallas</td>\n",
       "      <td>Texas</td>\n",
       "      <td>DISC</td>\n",
       "      <td>BSF</td>\n",
       "      <td>0</td>\n",
       "      <td>A security company searching the web for sensi...</td>\n",
       "      <td>California Attorney General</td>\n",
       "      <td>NaN</td>\n",
       "      <td>2012</td>\n",
       "      <td>32.802955</td>\n",
       "      <td>-96.769923</td>\n",
       "      <td>NaN</td>\n",
       "      <td>NaN</td>\n",
       "      <td>NaN</td>\n",
       "    </tr>\n",
       "    <tr>\n",
       "      <th>8</th>\n",
       "      <td>3/23/2012</td>\n",
       "      <td>Manhattan Prep</td>\n",
       "      <td>New York</td>\n",
       "      <td>New York</td>\n",
       "      <td>HACK</td>\n",
       "      <td>BSR</td>\n",
       "      <td>0</td>\n",
       "      <td>A hacker was able to access the names, mailing...</td>\n",
       "      <td>California Attorney General</td>\n",
       "      <td>NaN</td>\n",
       "      <td>2012</td>\n",
       "      <td>40.714353</td>\n",
       "      <td>-74.005973</td>\n",
       "      <td>NaN</td>\n",
       "      <td>NaN</td>\n",
       "      <td>NaN</td>\n",
       "    </tr>\n",
       "    <tr>\n",
       "      <th>9</th>\n",
       "      <td>3/31/2012</td>\n",
       "      <td>St. Joseph's Medical Center</td>\n",
       "      <td>Stockton</td>\n",
       "      <td>California</td>\n",
       "      <td>PHYS</td>\n",
       "      <td>MED</td>\n",
       "      <td>712</td>\n",
       "      <td>A storeroom window at Saint Joseph's HealthCar...</td>\n",
       "      <td>California Attorney General</td>\n",
       "      <td>NaN</td>\n",
       "      <td>2012</td>\n",
       "      <td>37.957702</td>\n",
       "      <td>-121.290780</td>\n",
       "      <td>NaN</td>\n",
       "      <td>NaN</td>\n",
       "      <td>NaN</td>\n",
       "    </tr>\n",
       "  </tbody>\n",
       "</table>\n",
       "</div>"
      ],
      "text/plain": [
       "  Date Made Public                                            Company  \\\n",
       "0         3/3/2006                                      PayDay OK LLC   \n",
       "1         1/4/2012  SF Fire Credit Union, Pacifica-Coastside Credi...   \n",
       "2        2/18/2012                 BDO USA, Rubio's Restaurants, Inc.   \n",
       "3        2/22/2012                         DHI Mortgage Company, Ltd.   \n",
       "4        3/12/2012                          Impairment Resources, LLC   \n",
       "5        3/14/2012  RJL Insurance Services, LLC, RJL Wealth Manage...   \n",
       "6        3/19/2012                      Kaiser Foundation Health Plan   \n",
       "7        3/19/2012              IndyMac Bank, IndyMac Resources, Inc.   \n",
       "8        3/23/2012                                     Manhattan Prep   \n",
       "9        3/31/2012                        St. Joseph's Medical Center   \n",
       "\n",
       "            City       State Type of breach Type of organization  \\\n",
       "0            NaN  New Jersey           HACK                  BSF   \n",
       "1  San Francisco  California           PORT                  BSF   \n",
       "2      San Diego  California           PORT                  BSR   \n",
       "3         Austin       Texas           HACK                  BSF   \n",
       "4      San Diego  California           PORT                  MED   \n",
       "5      San Diego  California           DISC                  BSF   \n",
       "6        Oakland  California           DISC                  MED   \n",
       "7         Dallas       Texas           DISC                  BSF   \n",
       "8       New York    New York           HACK                  BSR   \n",
       "9       Stockton  California           PHYS                  MED   \n",
       "\n",
       "  Total Records                            Description of incident  \\\n",
       "0            88  The company's website was breached sometime ar...   \n",
       "1             0  The December 29, 2011 theft of a laptop from a...   \n",
       "2             0  BDO was contracted by Rubio's to perform finan...   \n",
       "3             0  On February 10, 2012, DHI Mortgage became awar...   \n",
       "4        14,000  An office burglary on New Year's Eve 2011 resu...   \n",
       "5             0  RJL Insurance Services became aware of a vulne...   \n",
       "6        30,000  Someone purchased a hard drive in September of...   \n",
       "7             0  A security company searching the web for sensi...   \n",
       "8             0  A hacker was able to access the names, mailing...   \n",
       "9           712  A storeroom window at Saint Joseph's HealthCar...   \n",
       "\n",
       "            Information Source           Source URL  Year of Breach  \\\n",
       "0  California Attorney General  https://oag.ca.gov/            2006   \n",
       "1  California Attorney General                  NaN            2012   \n",
       "2  California Attorney General                  NaN            2012   \n",
       "3  California Attorney General                  NaN            2012   \n",
       "4  California Attorney General                  NaN            2012   \n",
       "5  California Attorney General                  NaN            2012   \n",
       "6  California Attorney General                  NaN            2012   \n",
       "7  California Attorney General                  NaN            2012   \n",
       "8  California Attorney General                  NaN            2012   \n",
       "9  California Attorney General                  NaN            2012   \n",
       "\n",
       "    Latitude   Longitude  Unnamed: 13  Unnamed: 14 Unnamed: 15  \n",
       "0  40.058324  -74.405661          NaN          NaN         NaN  \n",
       "1  37.774930 -122.419416          NaN          NaN         NaN  \n",
       "2  32.715329 -117.157255          NaN          NaN         NaN  \n",
       "3  30.267153  -97.743061          NaN          NaN         NaN  \n",
       "4  32.715329 -117.157255          NaN          NaN         NaN  \n",
       "5  32.715329 -117.157255          NaN          NaN         NaN  \n",
       "6  37.804364 -122.271114          NaN          NaN         NaN  \n",
       "7  32.802955  -96.769923          NaN          NaN         NaN  \n",
       "8  40.714353  -74.005973          NaN          NaN         NaN  \n",
       "9  37.957702 -121.290780          NaN          NaN         NaN  "
      ]
     },
     "execution_count": 2,
     "metadata": {},
     "output_type": "execute_result"
    }
   ],
   "source": [
    "df=pd.read_csv(\"PRC.csv\",sep=';')\n",
    "df.head(10)"
   ]
  },
  {
   "cell_type": "code",
   "execution_count": 3,
   "id": "fc1a61c2",
   "metadata": {},
   "outputs": [
    {
     "data": {
      "image/png": "[encoded data removed]",
      "text/plain": [
       "<Figure size 640x480 with 1 Axes>"
      ]
     },
     "metadata": {},
     "output_type": "display_data"
    }
   ],
   "source": [
    "dff=df.loc[df['Type of breach']==\"HACK\",'Date Made Public']\n",
    "\n",
    "dff=dff.apply(lambda x: datetime.strptime(x,'%m/%d/%Y'))\n",
    "debut=min(dff)\n",
    "dff=dff-debut\n",
    "dff=dff.apply(lambda x: x.days).sort_values()\n",
    "l=np.asarray(dff)[1:]\n",
    "\n",
    "plt.scatter(1+np.arange(len(l)), l,s=0.1)\n",
    "plt.show()"
   ]
  },
  {
   "cell_type": "code",
   "execution_count": 14,
   "id": "8b485887",
   "metadata": {},
   "outputs": [],
   "source": [
    "def log_estimator_poisson(params):\n",
    " \n",
    "    alpha, beta, gamma = params\n",
    "    t_max = l[-1]\n",
    "    log_like = (1-alpha)*t_max\n",
    "\n",
    "    for i in range(len(l)):\n",
    "        sum1 = np.sum(np.exp(-gamma*(l[i]*np.ones(i) - l[:i])))\n",
    "        log_like += np.log(alpha + beta*sum1)\n",
    "        log_like -= (beta/gamma) * (1-np.exp(-gamma*(t_max-l[i])))\n",
    "\n",
    "    return -log_like"
   ]
  },
  {
   "cell_type": "code",
   "execution_count": 37,
   "id": "0d860425",
   "metadata": {},
   "outputs": [
    {
     "name": "stderr",
     "output_type": "stream",
     "text": [
      "/tmp/ipykernel_2409/2956535199.py:9: RuntimeWarning: divide by zero encountered in log\n",
      "  log_like += np.log(alpha + beta*sum1)\n"
     ]
    }
   ],
   "source": [
    "x0 = np.array([0.45, 1/2, 1])\n",
    "\n",
    "\n",
    "bounds = ((0, None),(0, None), (0, None)) # I'll change this later maybe!\n",
    "\n",
    "constr = [\n",
    "    {'type':'ineq', 'fun' : lambda x: x[0]},\n",
    "    {'type':'ineq', 'fun' : lambda x: x[1]},\n",
    "    {'type':'ineq', 'fun' : lambda x: x[2]},\n",
    "    {'type':'ineq', 'fun' : lambda x: x[2] - x[1]} ]\n",
    "\n",
    "tmax = l[-1]\n",
    "lik_model = sp.optimize.minimize(lambda x : log_estimator_poisson(x), x0, bounds=bounds, constraints= constr, method='SLSQP')"
   ]
  },
  {
   "cell_type": "code",
   "execution_count": 38,
   "id": "cf09ee86",
   "metadata": {},
   "outputs": [
    {
     "data": {
      "text/plain": [
       " message: Optimization terminated successfully\n",
       " success: True\n",
       "  status: 0\n",
       "     fun: -9773.336517584572\n",
       "       x: [ 2.723e-01  5.793e+03  2.085e+04]\n",
       "     nit: 15\n",
       "     jac: [-4.339e+02  2.515e-02  0.000e+00]\n",
       "    nfev: 84\n",
       "    njev: 15"
      ]
     },
     "execution_count": 38,
     "metadata": {},
     "output_type": "execute_result"
    }
   ],
   "source": [
    "lik_model"
   ]
  },
  {
   "cell_type": "code",
   "execution_count": 39,
   "id": "8b447b12",
   "metadata": {},
   "outputs": [
    {
     "name": "stdout",
     "output_type": "stream",
     "text": [
      "alpha: 0.2723462656762506, beta: 5793.393496349796 and gamma: 20854.059125092397\n"
     ]
    }
   ],
   "source": [
    "print(f\"alpha: {lik_model['x'][0]}, beta: {lik_model['x'][1]} and gamma: {lik_model['x'][2]}\")"
   ]
  },
  {
   "cell_type": "code",
   "execution_count": 40,
   "id": "ff3fc6bc",
   "metadata": {},
   "outputs": [],
   "source": [
    "def estimate_poisson(params, dataset, t):\n",
    "    timesteps = dataset[dataset <= t]\n",
    "    y = params[0] * t\n",
    "    temp = np.sum(1 - np.exp(-params[2] * (t - timesteps)))\n",
    "    return y + (params[1] / params[2]) * temp"
   ]
  },
  {
   "cell_type": "code",
   "execution_count": 46,
   "id": "ad8b5f17",
   "metadata": {},
   "outputs": [],
   "source": [
    "t = np.arange(len(l))\n",
    "y = np.zeros(len(l))\n",
    "for time in t: \n",
    "    result = estimate_poisson(lik_model['x'], l, time)\n",
    "    y[time] = result"
   ]
  },
  {
   "cell_type": "code",
   "execution_count": 48,
   "id": "3d794071",
   "metadata": {},
   "outputs": [],
   "source": [
    "y = np.diff(y)"
   ]
  },
  {
   "cell_type": "code",
   "execution_count": 49,
   "id": "31484823",
   "metadata": {},
   "outputs": [
    {
     "data": {
      "text/plain": [
       "0.3335932176963052"
      ]
     },
     "execution_count": 49,
     "metadata": {},
     "output_type": "execute_result"
    }
   ],
   "source": [
    "np.mean(y)"
   ]
  },
  {
   "cell_type": "code",
   "execution_count": 50,
   "id": "a694cc3b",
   "metadata": {},
   "outputs": [],
   "source": [
    "x_vals = np.linspace(0, 10, 100)\n",
    "density = sp.stats.expon.pdf(x_vals, scale=1)"
   ]
  },
  {
   "cell_type": "code",
   "execution_count": 51,
   "id": "5638f558",
   "metadata": {},
   "outputs": [
    {
     "name": "stdout",
     "output_type": "stream",
     "text": [
      "[   8   57   60 ... 5321 5341 5364]\n"
     ]
    },
    {
     "data": {
      "image/png": "[encoded data removed]",
      "text/plain": [
       "<Figure size 1000x400 with 1 Axes>"
      ]
     },
     "metadata": {},
     "output_type": "display_data"
    }
   ],
   "source": [
    "print(l)\n",
    "plt.figure(figsize=(10, 4))\n",
    "plt.hist(y, bins=40, density=True, alpha=0.7)\n",
    "# plt.plot(x_vals, density)\n",
    "plt.title(\"Poisson process of intensity 1 estimate\")\n",
    "plt.grid()\n",
    "plt.show()"
   ]
  }
 ],
 "metadata": {
  "kernelspec": {
   "display_name": "Python 3",
   "language": "python",
   "name": "python3"
  },
  "language_info": {
   "codemirror_mode": {
    "name": "ipython",
    "version": 3
   },
   "file_extension": ".py",
   "mimetype": "text/x-python",
   "name": "python",
   "nbconvert_exporter": "python",
   "pygments_lexer": "ipython3",
   "version": "3.11.2"
  }
 },
 "nbformat": 4,
 "nbformat_minor": 5
}
