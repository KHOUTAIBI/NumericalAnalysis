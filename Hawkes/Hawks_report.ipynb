{
  "cells": [
    {
      "cell_type": "markdown",
      "metadata": {
        "id": "x-sAp-8qISwW"
      },
      "source": [
        "# <ins style = \"color : orange\" > Hawkes Process Analysis of Data Breaches. By LAITA Sami, BARAKA Rayane and KHOUTAIBI Illiass\n",
        "  \n",
        "This notebook performs an analysis of data breaches using a Hawkes process model. The goal is to model the times between successive data breach events and estimate the parameters of the Hawkes process that best describe the observed data.\n",
        "\n",
        "The Hawkes process is a self-exciting point process, meaning that the occurrence of an event increases the probability of future events. This is particularly relevant for modeling data breaches, as one breach might trigger subsequent attacks or reveal vulnerabilities that lead to more breaches.\n",
        "\n",
        "We will focus on estimating the parameters of the Hawkes process with an exponential decay kernel, given by the intensity function:\n",
        "\n",
        "$$\n",
        "\\dot{y}(N,t)=\\alpha+\\beta\\int_0^{t}e^{γ(t−s)} dN(s)$$\n",
        "\n",
        "where:\n",
        "- $\\alpha$ is the background intensity of events.\n",
        "- $\\beta$ is the exciting factor, representing the average number of new events triggered by a previous event.\n",
        "- $\\gamma$ is the decay rate of the excitation effect."
      ]
    },
    {
      "cell_type": "code",
      "execution_count": 110,
      "metadata": {
        "id": "r2jvltNDISwZ"
      },
      "outputs": [],
      "source": [
        "import pandas as pd\n",
        "from datetime import datetime\n",
        "from scipy.optimize import minimize,root_scalar\n",
        "import numpy as np\n",
        "import matplotlib.pylab as plt\n",
        "from scipy.stats import expon, chisquare, chi2, kstest\n",
        "from scipy.integrate import quad\n",
        "from scipy.optimize import minimize\n",
        "from scipy import stats"
      ]
    },
    {
      "cell_type": "markdown",
      "metadata": {
        "id": "CI_RusOaISwa"
      },
      "source": [
        "### Loading the data\n",
        "\n",
        "First of all, let us load the data of the PRC, which will be used further down to detemine the coefficients of the <strong>Hawks</strong> process."
      ]
    },
    {
      "cell_type": "code",
      "execution_count": 111,
      "metadata": {
        "colab": {
          "base_uri": "https://localhost:8080/",
          "height": 430
        },
        "id": "0j5rjAg8ISwb",
        "outputId": "21affbc2-3044-4a39-a582-88ec646796b3"
      },
      "outputs": [
        {
          "data": {
            "image/png": "[encoded data removed]",
            "text/plain": [
              "<Figure size 640x480 with 1 Axes>"
            ]
          },
          "metadata": {},
          "output_type": "display_data"
        }
      ],
      "source": [
        "df=pd.read_csv(\"PRC.csv\",sep=';')\n",
        "dff=df.loc[df['Type of breach']==\"HACK\",'Date Made Public']\n",
        "dff=dff.apply(lambda x:datetime.strptime(x,'%m/%d/%Y'))\n",
        "debut=min(dff)\n",
        "dff=dff-debut\n",
        "dff=dff.apply(lambda x:x.days).sort_values()\n",
        "l=np.asarray(dff)[1:]\n",
        "unique_l = np.unique(l)\n",
        "plt.scatter(l,1+np.arange(len(l)),s=0.1)\n",
        "plt.show()"
      ]
    },
    {
      "cell_type": "markdown",
      "metadata": {
        "id": "7s2X_jiyISwc"
      },
      "source": [
        "For a complete description of its content and of the motivations behind this analysis. We are going to make a simplified analysis by modeling time of attacks by a Hawkes process with intensity  \n",
        "\n",
        "$$\n",
        "\\dot{y}(N,t)=\\alpha+\\beta\\int_0^{t}e^{γ(t−s)} dN(s)$$\n",
        "\n",
        "\n",
        "The log-likelihood function is defined as:\n",
        "\n",
        "$$\n",
        "\\log L(N, t) = \\sum_{T_n \\leq t} \\log \\left(\\alpha + \\beta \\sum_{j=1}^{n-1} e^{-\\gamma\\left(T_n-T_j\\right)}\\right) + (1-\\alpha) t - \\frac{\\beta}{\\gamma} \\sum_{T_n \\leq t} \\left(1 - e^{-\\gamma\\left(t-T_n\\right)}\\right)\n",
        "$$\n",
        "\n",
        "In order to maximize the log-likelihood (minize the negative log-likelihood in this case). Scipy offers a <strong>minimization</strong> function, whcih takes in parameters the function to minimize, the constraints of said minimization and the initial coordinates of minimization.\n",
        "\n",
        "The initial params are detrimental in the minimization. In the cell down below, we have decided to implement a function whcih helps us determine the best initial conditions for our optimization problem.\n",
        "\n",
        "We first define our log-likelihhod function.\n"
      ]
    },
    {
      "cell_type": "code",
      "execution_count": 112,
      "metadata": {
        "colab": {
          "base_uri": "https://localhost:8080/",
          "height": 1000
        },
        "id": "LpFzAllh4QY-",
        "outputId": "c073ad00-4c72-4331-b2f4-0d082fb5ec99"
      },
      "outputs": [],
      "source": [
        "# First define the log-likelihood function to minimize\n",
        "def log_likelihood(params):\n",
        "    \"\"\"\n",
        "        Log-likelikelihood function, which takes in parameters: Alpha, beta and gamma\n",
        "    \"\"\"\n",
        "\n",
        "    alpha, beta, gamma = params\n",
        "    t_max = l[-1]\n",
        "    log_like = (1-alpha)*t_max\n",
        "\n",
        "    # Summing\n",
        "    for i in range(len(l)):\n",
        "        sum1 = np.sum(np.exp(-gamma*(l[i]*np.ones(i) - l[:i])))\n",
        "        argument = alpha + beta*sum1\n",
        "        if argument <= 0:\n",
        "            return np.inf\n",
        "        log_like += np.log(argument)\n",
        "        log_like -= (beta/gamma) * (1-np.exp(-gamma*(t_max-l[i])))\n",
        "\n",
        "    return -log_like"
      ]
    },
    {
      "cell_type": "markdown",
      "metadata": {},
      "source": [
        "Now we can begin out exploration. To make things easier, we will fix $\\beta = 0.5$ and $\\gamma = 1.0$. Our initial parameter exploration will go through $\\alpha$. "
      ]
    },
    {
      "cell_type": "code",
      "execution_count": 113,
      "metadata": {},
      "outputs": [
        {
          "name": "stdout",
          "output_type": "stream",
          "text": [
            "Plotting the impact of Alpha on the log-likelihood function:\n"
          ]
        },
        {
          "data": {
            "image/png": "[encoded data removed]",
            "text/plain": [
              "<Figure size 1000x500 with 1 Axes>"
            ]
          },
          "metadata": {},
          "output_type": "display_data"
        }
      ],
      "source": [
        "# Let's fix beta and gamma for this exploration\n",
        "beta_fixed = 0.5\n",
        "gamma_fixed = 1.0\n",
        "\n",
        "# Exploting Alpha\n",
        "print(\"Plotting the impact of Alpha on the log-likelihood function:\")\n",
        "alphas_explore = np.arange(0.1, 1, 0.01)\n",
        "likelihood_alpha = []\n",
        "\n",
        "\n",
        "try: \n",
        "    for alpha_val in alphas_explore: \n",
        "        log_like_val = log_likelihood([alpha_val, beta_fixed, gamma_fixed])\n",
        "        likelihood_alpha.append(-log_like_val) \n",
        "\n",
        "except ValueError: \n",
        "   likelihood_alpha.append(np.nan)\n",
        "\n",
        "likelihood_alpha = np.array(likelihood_alpha)\n",
        "\n",
        "plt.figure(figsize=(10, 5))\n",
        "plt.title(\"Alpha's impact on log-likelihood\")\n",
        "plt.plot(alphas_explore, likelihood_alpha)\n",
        "plt.xlabel(r\"$\\alpha$\")\n",
        "plt.ylabel(\"log_likelihood\")\n",
        "plt.grid()\n",
        "plt.show()"
      ]
    },
    {
      "cell_type": "code",
      "execution_count": 114,
      "metadata": {},
      "outputs": [],
      "source": [
        "# Choose some values for beta and gamma to test\n",
        "beta_values_to_test = [0.1, 0.5, 1.0, 2.0]\n",
        "gamma_values_to_test = [0.5, 1.0, 2.0, 5.0]\n",
        "alpha_fixed = 0.4728\n",
        "\n",
        "# Result of the minimization\n",
        "results = {}\n",
        "\n",
        "# Constraint of the minimization, as explained in the course.\n",
        "constr = [{'type': 'ineq', 'fun': lambda x: x[1]/x[2]-1}, # beta/gamma > 1\n",
        "          {'type': 'ineq', 'fun': lambda x: x[0]+1e-18},  # alpha > 0\n",
        "          {'type': 'ineq', 'fun': lambda x: x[1]+1e-18},  # beta > 0\n",
        "          {'type': 'ineq', 'fun': lambda x: x[2]+1e-18}]  # gamma > 0\n",
        "\n",
        "# Bounds of the minimization\n",
        "bnds = ((0, None),(0, None),(0, None))"
      ]
    },
    {
      "cell_type": "code",
      "execution_count": 115,
      "metadata": {},
      "outputs": [
        {
          "name": "stdout",
          "output_type": "stream",
          "text": [
            "Looking for the best initialization params\n",
            "\n",
            "Test with initial conditions: alpha=0.4728, beta=0.1, gamma=0.5\n"
          ]
        },
        {
          "name": "stderr",
          "output_type": "stream",
          "text": [
            "/home/iliass/.local/lib/python3.11/site-packages/scipy/optimize/_minimize.py:565: RuntimeWarning: Method L-BFGS-B cannot handle constraints.\n",
            "  warn('Method %s cannot handle constraints.' % method,\n",
            "/home/iliass/.local/lib/python3.11/site-packages/scipy/optimize/_numdiff.py:576: RuntimeWarning: invalid value encountered in subtract\n",
            "  df = fun(x) - f0\n",
            "/tmp/ipykernel_4170/1728178069.py:18: RuntimeWarning: divide by zero encountered in scalar divide\n",
            "  log_like -= (beta/gamma) * (1-np.exp(-gamma*(t_max-l[i])))\n",
            "/tmp/ipykernel_4170/1728178069.py:18: RuntimeWarning: invalid value encountered in scalar multiply\n",
            "  log_like -= (beta/gamma) * (1-np.exp(-gamma*(t_max-l[i])))\n"
          ]
        },
        {
          "name": "stdout",
          "output_type": "stream",
          "text": [
            "Success: True, Negative log-likelihood: -1483.4802, Found params: [0.12312303 0.25769056 0.35210982]\n",
            "\n",
            "Test with initial conditions: alpha=0.4728, beta=0.1, gamma=1.0\n",
            "Success: True, Negative log-likelihood: -2309.4021, Found params: [ 0.5458613   7.90606209 12.83274268]\n",
            "\n",
            "Test with initial conditions: alpha=0.4728, beta=0.1, gamma=2.0\n",
            "Success: True, Negative log-likelihood: -1335.3874, Found params: [0.4725022  1.09999917 2.00125684]\n",
            "\n",
            "Test with initial conditions: alpha=0.4728, beta=0.1, gamma=5.0\n",
            "Success: True, Negative log-likelihood: -1832.8683, Found params: [0.47254939 1.09999189 5.00402006]\n",
            "\n",
            "Test with initial conditions: alpha=0.4728, beta=0.5, gamma=0.5\n",
            "Success: True, Negative log-likelihood: -7680.0588, Found params: [3.06451691e-01 8.88479508e+02 2.21957625e+03]\n",
            "\n",
            "Test with initial conditions: alpha=0.4728, beta=0.5, gamma=1.0\n",
            "Success: True, Negative log-likelihood: -8800.9430, Found params: [3.60603890e-01 1.85309812e+03 8.38788240e+03]\n",
            "\n",
            "Test with initial conditions: alpha=0.4728, beta=0.5, gamma=2.0\n",
            "Success: True, Negative log-likelihood: -1458.0131, Found params: [0.47193881 0.8332263  2.19485117]\n",
            "\n",
            "Test with initial conditions: alpha=0.4728, beta=0.5, gamma=5.0\n",
            "Success: True, Negative log-likelihood: -1877.4628, Found params: [0.47208151 1.49810297 5.06156252]\n",
            "\n",
            "Test with initial conditions: alpha=0.4728, beta=1.0, gamma=0.5\n",
            "Success: True, Negative log-likelihood: -9378.0742, Found params: [5.58655113e-01 3.92375296e+03 3.04830081e+04]\n",
            "\n",
            "Test with initial conditions: alpha=0.4728, beta=1.0, gamma=1.0\n",
            "Success: True, Negative log-likelihood: -1370.6363, Found params: [0.47245526 0.99927084 1.99999967]\n",
            "\n",
            "Test with initial conditions: alpha=0.4728, beta=1.0, gamma=2.0\n",
            "Success: True, Negative log-likelihood: -1588.1052, Found params: [0.47126776 0.99675922 2.99999357]\n",
            "\n",
            "Test with initial conditions: alpha=0.4728, beta=1.0, gamma=5.0\n",
            "Success: True, Negative log-likelihood: -1915.2040, Found params: [0.47078595 1.93509268 5.35439755]\n",
            "\n",
            "Test with initial conditions: alpha=0.4728, beta=2.0, gamma=0.5\n",
            "Success: True, Negative log-likelihood: -9697.1007, Found params: [3.93912394e-01 3.96005786e+03 2.88445695e+04]\n",
            "\n",
            "Test with initial conditions: alpha=0.4728, beta=2.0, gamma=1.0\n",
            "Success: True, Negative log-likelihood: -830.4153, Found params: [0.47266559 1.99943144 1.99999983]\n",
            "\n",
            "Test with initial conditions: alpha=0.4728, beta=2.0, gamma=2.0\n",
            "Success: True, Negative log-likelihood: -1363.2569, Found params: [0.47220385 1.99747819 2.99999664]\n",
            "\n",
            "Test with initial conditions: alpha=0.4728, beta=2.0, gamma=5.0\n",
            "Success: True, Negative log-likelihood: -2004.0287, Found params: [0.47002307 1.98825324 5.99992715]\n",
            "\n"
          ]
        }
      ],
      "source": [
        "print(\"Looking for the best initialization params\\n\")\n",
        "\n",
        "for beta_val in beta_values_to_test:\n",
        "\n",
        "    for gamma_val in gamma_values_to_test:\n",
        "        \n",
        "        initial_params_test = [alpha_fixed, beta_val, gamma_val]\n",
        "        print(f\"Test with initial conditions: alpha={alpha_fixed}, beta={beta_val}, gamma={gamma_val}\")\n",
        "\n",
        "        try:\n",
        "        \n",
        "            res_test = minimize(log_likelihood, initial_params_test, method='L-BFGS-B', bounds=bnds, constraints=constr)\n",
        "        \n",
        "            results[f\"beta={beta_val}, gamma={gamma_val}\"] = {\n",
        "                \"success\": res_test.success,\n",
        "                \"fun\": res_test.fun, # minimal negative log-likelihood\n",
        "                \"x\": res_test.x # optimal parameters found\n",
        "            }\n",
        "            \n",
        "            print(f\"Success: {res_test.success}, Negative log-likelihood: {res_test.fun:.4f}, Found params: {res_test.x}\\n\")\n",
        "        \n",
        "        except Exception as e:\n",
        "            \n",
        "            print(f\"  Error during the optimisation :  {e}\")\n",
        "            results[f\"beta={beta_val}, gamma={gamma_val}\"] = {\n",
        "                \"success\": False,\n",
        "                \"error\": str(e)\n",
        "            }"
      ]
    },
    {
      "cell_type": "code",
      "execution_count": 116,
      "metadata": {},
      "outputs": [
        {
          "name": "stdout",
          "output_type": "stream",
          "text": [
            "Exploration results summary:\n",
            "\n",
            "Initiales (beta=0.1, gamma=0.5): Negative log-likelihood = -1483.4802, Optimal params = [0.12312303 0.25769056 0.35210982]\n",
            "Initiales (beta=0.1, gamma=1.0): Negative log-likelihood = -2309.4021, Optimal params = [ 0.5458613   7.90606209 12.83274268]\n",
            "Initiales (beta=0.1, gamma=2.0): Negative log-likelihood = -1335.3874, Optimal params = [0.4725022  1.09999917 2.00125684]\n",
            "Initiales (beta=0.1, gamma=5.0): Negative log-likelihood = -1832.8683, Optimal params = [0.47254939 1.09999189 5.00402006]\n",
            "Initiales (beta=0.5, gamma=0.5): Negative log-likelihood = -7680.0588, Optimal params = [3.06451691e-01 8.88479508e+02 2.21957625e+03]\n",
            "Initiales (beta=0.5, gamma=1.0): Negative log-likelihood = -8800.9430, Optimal params = [3.60603890e-01 1.85309812e+03 8.38788240e+03]\n",
            "Initiales (beta=0.5, gamma=2.0): Negative log-likelihood = -1458.0131, Optimal params = [0.47193881 0.8332263  2.19485117]\n",
            "Initiales (beta=0.5, gamma=5.0): Negative log-likelihood = -1877.4628, Optimal params = [0.47208151 1.49810297 5.06156252]\n",
            "Initiales (beta=1.0, gamma=0.5): Negative log-likelihood = -9378.0742, Optimal params = [5.58655113e-01 3.92375296e+03 3.04830081e+04]\n",
            "Initiales (beta=1.0, gamma=1.0): Negative log-likelihood = -1370.6363, Optimal params = [0.47245526 0.99927084 1.99999967]\n",
            "Initiales (beta=1.0, gamma=2.0): Negative log-likelihood = -1588.1052, Optimal params = [0.47126776 0.99675922 2.99999357]\n",
            "Initiales (beta=1.0, gamma=5.0): Negative log-likelihood = -1915.2040, Optimal params = [0.47078595 1.93509268 5.35439755]\n",
            "Initiales (beta=2.0, gamma=0.5): Negative log-likelihood = -9697.1007, Optimal params = [3.93912394e-01 3.96005786e+03 2.88445695e+04]\n",
            "Initiales (beta=2.0, gamma=1.0): Negative log-likelihood = -830.4153, Optimal params = [0.47266559 1.99943144 1.99999983]\n",
            "Initiales (beta=2.0, gamma=2.0): Negative log-likelihood = -1363.2569, Optimal params = [0.47220385 1.99747819 2.99999664]\n",
            "Initiales (beta=2.0, gamma=5.0): Negative log-likelihood = -2004.0287, Optimal params = [0.47002307 1.98825324 5.99992715]\n",
            "\n",
            "\n",
            "The optimized params with the best negative log likelihood are : [3.93912394e-01 3.96005786e+03 2.88445695e+04]\n",
            "\n"
          ]
        }
      ],
      "source": [
        "# Result Analysis\n",
        "print(\"Exploration results summary:\\n\")\n",
        "\n",
        "best_likelihood = np.inf\n",
        "best_initial_params = None\n",
        "\n",
        "for key, value in results.items():\n",
        "    if value.get(\"success\", False):\n",
        "\n",
        "        print(f\"Initiales ({key}): Negative log-likelihood = {value['fun']:.4f}, Optimal params = {value['x']}\")\n",
        "        \n",
        "        if value['fun'] < best_likelihood:\n",
        "\n",
        "            best_likelihood = value['fun']\n",
        "            # Save the best params found\n",
        "            best_initial_params = value['x']\n",
        "\n",
        "print(\"\\n\")\n",
        "if best_initial_params is not None:\n",
        "\n",
        "    print(f\"The optimized params with the best negative log likelihood are : {best_initial_params}\\n\")\n",
        "\n",
        "else:\n",
        "    print(\"No optimisation converged.\\n\")"
      ]
    },
    {
      "cell_type": "markdown",
      "metadata": {},
      "source": [
        "Now that we have found the optimal initial params, we can minimize our function."
      ]
    },
    {
      "cell_type": "code",
      "execution_count": 117,
      "metadata": {
        "colab": {
          "base_uri": "https://localhost:8080/"
        },
        "id": "uJo50ThoISwh",
        "outputId": "644df5c6-c66c-44e2-efe7-229511e070c3"
      },
      "outputs": [
        {
          "name": "stdout",
          "output_type": "stream",
          "text": [
            "Optimization Result:\n",
            "  message: CONVERGENCE: REL_REDUCTION_OF_F_<=_FACTR*EPSMCH\n",
            "  success: True\n",
            "   status: 0\n",
            "      fun: -9697.100715496648\n",
            "        x: [ 3.939e-01  3.960e+03  2.884e+04]\n",
            "      nit: 1\n",
            "      jac: [ 1.355e+03 -2.456e-01  0.000e+00]\n",
            "     nfev: 12\n",
            "     njev: 3\n",
            " hess_inv: <3x3 LbfgsInvHessProduct with dtype=float64>\n"
          ]
        }
      ],
      "source": [
        "# Initial guess for the parameters\n",
        "initial_params = best_initial_params  # Initial guess for alpha, beta, gamma\n",
        "\n",
        "# find the optimal parameters\n",
        "\n",
        "def optimal_parameters():\n",
        "\n",
        "    constr = [{'type': 'ineq', 'fun': lambda x: x[1]/x[2]-1},\n",
        "          {'type': 'ineq', 'fun': lambda x: x[0]+1e-18},  # alpha > 0\n",
        "          {'type': 'ineq', 'fun': lambda x: x[1]+1e-18},  # beta > 0\n",
        "          {'type': 'ineq', 'fun': lambda x: x[2]+1e-18}]  # gamma > 0\n",
        "    \n",
        "    bnds = ((0,None),(0,None),(0,None))\n",
        "    \n",
        "    res=minimize(log_likelihood, initial_params, method='L-BFGS-B', bounds=bnds , constraints=constr)\n",
        "    \n",
        "    print(\"Optimization Result:\")\n",
        "    print(res) \n",
        "    \n",
        "    return res.x\n",
        "\n",
        "# Optimal params\n",
        "alpha, beta, gamma=optimal_parameters()\n"
      ]
    },
    {
      "cell_type": "markdown",
      "metadata": {
        "id": "0iUHc9OcISwi"
      },
      "source": [
        "**Optimal parameters**"
      ]
    },
    {
      "cell_type": "code",
      "execution_count": null,
      "metadata": {
        "colab": {
          "base_uri": "https://localhost:8080/"
        },
        "id": "dBtcRC5bISwi",
        "outputId": "d131e0c8-0c06-4238-d51d-143f0f67f4df"
      },
      "outputs": [
        {
          "name": "stdout",
          "output_type": "stream",
          "text": [
            "Optimal Alpha =  0.39391239408880774\n",
            "Optimal Beta =  3960.057855556115\n",
            "Optimal Gamma =  28844.569498955658\n"
          ]
        }
      ],
      "source": [
        "print(\"Optimal Alpha = \", alpha)\n",
        "print(\"Optimal Beta = \", beta)\n",
        "print(\"Optimal Gamma = \", gamma)"
      ]
    },
    {
      "cell_type": "markdown",
      "metadata": {
        "id": "aZkeAHL_ISwj"
      },
      "source": [
        "We will compute $y(N, t)$ using the following formula found exercise 3.4.2.\n",
        "\n",
        "$$y(N,t)=\\alpha t + \\frac{\\beta}{\\gamma} \\sum_{T_n\\leq t} (1-e^{-\\gamma (t-T_n)})$$"
      ]
    },
    {
      "cell_type": "code",
      "execution_count": 133,
      "metadata": {
        "id": "g8xICJHBISwj"
      },
      "outputs": [],
      "source": [
        "# Computing y\n",
        "y = np.zeros(len(l))\n",
        "for i in range(len(l)):\n",
        "    y[i] = alpha*l[i] + (beta / gamma) * (np.sum(1 - np.exp(-gamma * (l[i] - l[:i]))))"
      ]
    },
    {
      "cell_type": "markdown",
      "metadata": {
        "id": "oU3hAGzTISwj"
      },
      "source": [
        "Now that we have computed y, let's compare the distribution of inter-arrival times with generated poisson process .\n",
        "To do so, we will compare the empirical histogram with the exponential densities"
      ]
    },
    {
      "cell_type": "markdown",
      "metadata": {
        "id": "3P9PnWEXISwk"
      },
      "source": [
        "**Compare the mean**"
      ]
    },
    {
      "cell_type": "code",
      "execution_count": 134,
      "metadata": {
        "colab": {
          "base_uri": "https://localhost:8080/"
        },
        "id": "s8BiIaATISwk",
        "outputId": "c9db8bb8-27ce-4bc2-b271-418ece4c306e"
      },
      "outputs": [
        {
          "name": "stdout",
          "output_type": "stream",
          "text": [
            "Sample mean of our distribution is: 0.970871048620574\n"
          ]
        }
      ],
      "source": [
        "inter_intervals = np.diff(y) # Inter arrivals\n",
        "mean = np.mean(inter_intervals)\n",
        "print(\"Sample mean of our distribution is:\", mean)"
      ]
    },
    {
      "cell_type": "markdown",
      "metadata": {
        "id": "lvYTTpnuISwl"
      },
      "source": [
        "**Data distribution**"
      ]
    },
    {
      "cell_type": "code",
      "execution_count": 135,
      "metadata": {
        "colab": {
          "base_uri": "https://localhost:8080/",
          "height": 472
        },
        "id": "ufPiSzRKISwl",
        "outputId": "4303a7d5-4a76-4725-c73b-7aa2957f4d7c"
      },
      "outputs": [
        {
          "data": {
            "image/png": "[encoded data removed]",
            "text/plain": [
              "<Figure size 1000x500 with 1 Axes>"
            ]
          },
          "metadata": {},
          "output_type": "display_data"
        }
      ],
      "source": [
        "plt.figure(figsize=(10, 5))\n",
        "plt.hist(inter_intervals, bins=40, density=True, alpha=0.7)\n",
        "plt.xlabel('X')\n",
        "plt.grid()\n",
        "plt.ylabel('Probability Density')\n",
        "plt.title('Histogram of Data')\n",
        "\n",
        "# Adding the theorical density plot\n",
        "x_values = np.linspace(0, 10, 100)\n",
        "\n",
        "# Exponential density with scale=1\n",
        "density = stats.expon.pdf(x_values, scale=1)\n",
        "plt.plot(x_values, density, 'g-', label='Exponential Density')\n",
        "plt.legend()\n",
        "\n",
        "plt.show()"
      ]
    },
    {
      "cell_type": "markdown",
      "metadata": {
        "id": "RMnPJk1mISwm"
      },
      "source": [
        "The histogram of the data $(y(N, T_q(N)), n \\geq 1)$ closely matches the exponential density function, indicating that the distribution of the data is close to the law of a Poisson process with intensity $1$. It is no wonder that the mean is also close to $1$.\n"
      ]
    },
    {
      "cell_type": "markdown",
      "metadata": {
        "id": "ggGpnJKDISwm"
      },
      "source": [
        "**Kolmogorov-Smirnov test**"
      ]
    },
    {
      "cell_type": "code",
      "execution_count": 137,
      "metadata": {
        "colab": {
          "base_uri": "https://localhost:8080/"
        },
        "id": "ASikNFTAISwm",
        "outputId": "14888372-cd18-40ef-cc00-94e7a8a6659a"
      },
      "outputs": [
        {
          "name": "stdout",
          "output_type": "stream",
          "text": [
            "The Kolmogorov-Smirnov score is 0.3765310154089293 for a scale of 0.970871048620574.\n",
            "The p-value is 0.0.\n"
          ]
        }
      ],
      "source": [
        "# Fit the exponential distribution to the observed gap times\n",
        "loc, scale = expon.fit(inter_intervals)\n",
        "\n",
        "# Ks Test\n",
        "ks_statistic, p_value =  stats.kstest(inter_intervals, 'expon', args=(loc, scale))\n",
        "\n",
        "print(f\"The Kolmogorov-Smirnov score is {ks_statistic} for a scale of {scale}.\")\n",
        "print(f\"The p-value is {p_value}.\")"
      ]
    },
    {
      "cell_type": "markdown",
      "metadata": {
        "id": "qDCQqElVISwn"
      },
      "source": [
        "**Conclusion :** from the results obtained above, it looks like the generated process of intensity $y(N, t)$ is a Poisson process of intensity around 1. This is what we were looking for when conducting the likelihood maximization."
      ]
    }
  ],
  "metadata": {
    "accelerator": "TPU",
    "colab": {
      "gpuType": "V28",
      "provenance": []
    },
    "kernelspec": {
      "display_name": "Python 3",
      "name": "python3"
    },
    "language_info": {
      "codemirror_mode": {
        "name": "ipython",
        "version": 3
      },
      "file_extension": ".py",
      "mimetype": "text/x-python",
      "name": "python",
      "nbconvert_exporter": "python",
      "pygments_lexer": "ipython3",
      "version": "3.11.2"
    }
  },
  "nbformat": 4,
  "nbformat_minor": 0
}
