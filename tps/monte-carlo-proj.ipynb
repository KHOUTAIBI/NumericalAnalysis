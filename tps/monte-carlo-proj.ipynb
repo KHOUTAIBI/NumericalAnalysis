{
 "cells": [
  {
   "cell_type": "code",
   "execution_count": null,
   "id": "ad6029a2",
   "metadata": {},
   "outputs": [],
   "source": [
    "def mean_number_waiting_customers(arrival_rate ,service_rate , nb_of_servers ):\n",
    "    pass"
   ]
  }
 ],
 "metadata": {
  "kernelspec": {
   "display_name": "Python 3",
   "language": "python",
   "name": "python3"
  },
  "language_info": {
   "name": "python",
   "version": "3.11.2"
  }
 },
 "nbformat": 4,
 "nbformat_minor": 5
}
